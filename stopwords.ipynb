{
  "nbformat": 4,
  "nbformat_minor": 0,
  "metadata": {
    "colab": {
      "provenance": []
    },
    "kernelspec": {
      "name": "python3",
      "display_name": "Python 3"
    },
    "language_info": {
      "name": "python"
    }
  },
  "cells": [
    {
      "cell_type": "code",
      "execution_count": 7,
      "metadata": {
        "colab": {
          "base_uri": "https://localhost:8080/"
        },
        "id": "9WtSv7KSr4v4",
        "outputId": "5781b85a-d164-489b-85a7-0890bf69c78a"
      },
      "outputs": [
        {
          "output_type": "stream",
          "name": "stderr",
          "text": [
            "[nltk_data] Downloading package stopwords to /root/nltk_data...\n",
            "[nltk_data]   Package stopwords is already up-to-date!\n"
          ]
        },
        {
          "output_type": "stream",
          "name": "stdout",
          "text": [
            "enter a textHi i'm narmadha\n",
            "{\"it'll\", \"he'd\", \"isn't\", 'their', 'should', 'he', \"she'll\", 'there', 'mustn', 'aren', 'them', 'by', 'such', 'ourselves', 'those', 'ours', 'will', \"they'll\", \"he's\", 'shouldn', 'which', 'whom', 'the', 'having', 'wasn', \"you'll\", 'again', \"should've\", 'once', 'was', 'while', 'on', 'an', \"she'd\", \"don't\", \"we're\", 'if', 'of', 'is', \"we'd\", 'd', \"hasn't\", 'can', 'myself', 'between', 'i', 'above', 'm', 'our', 'how', 'after', 'further', 'you', 'both', 'these', 'to', 'me', 'then', 'hers', 'because', 'during', \"it'd\", 'now', 'same', 've', 'very', 'does', 'with', 'no', 'few', 'yourselves', 'into', \"couldn't\", 'only', 'hasn', \"mightn't\", \"didn't\", 're', \"they've\", 'over', 'not', 'for', 'that', 's', 'isn', 'too', \"we've\", \"wasn't\", 'haven', 'am', 'didn', 't', 'been', 'has', 'any', 'all', 'nor', 'out', \"won't\", \"you're\", 'themselves', \"shouldn't\", \"he'll\", 'don', 'down', \"she's\", 'about', \"i'd\", 'from', 'here', 'as', 'this', 'most', 'until', 'y', 'a', 'some', 'and', 'mightn', 'be', 'off', \"that'll\", 'so', 'before', \"hadn't\", 'its', 'up', \"they're\", 'why', 'when', 'needn', 'below', \"i'm\", 'weren', \"needn't\", 'doing', 'yourself', 'have', 'under', 'your', 'who', 'through', 'doesn', 'her', 'had', 'ain', 'other', 'do', 'she', 'or', 'being', \"doesn't\", 'it', 'at', 'than', 'won', \"i've\", 'shan', 'did', 'are', 'each', 'ma', \"mustn't\", 'him', 'were', 'o', \"weren't\", \"it's\", \"haven't\", 'herself', 'just', \"i'll\", 'himself', 'more', 'against', 'we', \"wouldn't\", 'but', 'where', 'his', 'in', 'll', 'what', 'they', 'own', 'yours', \"shan't\", 'itself', \"we'll\", \"aren't\", \"they'd\", 'my', 'couldn', 'hadn', \"you've\", 'theirs', 'wouldn', \"you'd\"}\n",
            "['Hi', 'im', 'narmadha']\n"
          ]
        }
      ],
      "source": [
        "import nltk\n",
        "from nltk.corpus import stopwords\n",
        "nltk.download('stopwords')\n",
        "stop_words=set(stopwords.words('english'))\n",
        "\n",
        "#Remove stop words\n",
        "\n",
        "import re\n",
        "text=input(\"enter a text\")\n",
        "words=re.sub(r'[^\\w\\s]',\"\",text).split() #remove punctuation\n",
        "filtered_words=[word for word in words if word not in stop_words]\n",
        "print(stop_words)\n",
        "print(filtered_words)"
      ]
    }
  ]
}