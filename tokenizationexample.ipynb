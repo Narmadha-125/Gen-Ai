{
  "nbformat": 4,
  "nbformat_minor": 0,
  "metadata": {
    "colab": {
      "provenance": []
    },
    "kernelspec": {
      "name": "python3",
      "display_name": "Python 3"
    },
    "language_info": {
      "name": "python"
    }
  },
  "cells": [
    {
      "cell_type": "code",
      "execution_count": 1,
      "metadata": {
        "colab": {
          "base_uri": "https://localhost:8080/",
          "height": 106
        },
        "id": "p_Zrilv724bh",
        "outputId": "b639d1ae-99ee-4df8-a825-9e60577b393f"
      },
      "outputs": [
        {
          "output_type": "error",
          "ename": "SyntaxError",
          "evalue": "invalid syntax (ipython-input-1-3990118610.py, line 33)",
          "traceback": [
            "\u001b[0;36m  File \u001b[0;32m\"/tmp/ipython-input-1-3990118610.py\"\u001b[0;36m, line \u001b[0;32m33\u001b[0m\n\u001b[0;31m    lemmatized_words = [lemmatizer.lemmatize(word) for]()_\u001b[0m\n\u001b[0m                                                      ^\u001b[0m\n\u001b[0;31mSyntaxError\u001b[0m\u001b[0;31m:\u001b[0m invalid syntax\n"
          ]
        }
      ],
      "source": [
        "import nltk\n",
        "from nltk.tokenize import word_tokenize\n",
        "from nltk.corpus import stopwords\n",
        "from nltk.stem import PorterStemmer, WordNetLemmatizer\n",
        "\n",
        "# Download required NLTK data\n",
        "nltk.download('punkt')\n",
        "nltk.download('stopwords')\n",
        "nltk.download('wordnet')\n",
        "\n",
        "# Initialize tools\n",
        "stop_words = set(stopwords.words('english'))\n",
        "stemmer = PorterStemmer()\n",
        "lemmatizer = WordNetLemmatizer()\n",
        "\n",
        "# ==== Step 1: Read the file ====\n",
        "with open(\"/content/HI.txt\", \"r\", encoding=\"utf-8\") as file:\n",
        "    text = file.read()\n",
        "\n",
        "# ==== Step 2: Normalize the text ====\n",
        "normalized_text = text.lower()\n",
        "normalized_text = \"\".join([char for char in normalized_text if char.isalnum() or char.isspace()])\n",
        "normalized_text = \" \".join(normalized_text.split())  # Removes extra spaces\n",
        "\n",
        "# ==== Step 3: Tokenize ====\n",
        "tokens = word_tokenize(normalized_text)\n",
        "\n",
        "# ==== Step 4: Remove stopwords ====\n",
        "filtered_tokens = [word for word in tokens if word not in stop_words]\n",
        "\n",
        "# ==== Step 5: Apply stemming and lemmatization ====\n",
        "stemmed_words = [stemmer.stem(word) for word in filtered_tokens]\n",
        "lemmatized_words = [lemmatizer.lemmatize(word) for]()_\n"
      ]
    },
    {
      "cell_type": "code",
      "source": [
        "import nltk\n",
        "from nltk.tokenize import word_tokenize\n",
        "from nltk.corpus import stopwords\n",
        "from nltk.stem import PorterStemmer, WordNetLemmatizer\n",
        "\n",
        "# Download required NLTK data\n",
        "nltk.download('punkt')\n",
        "nltk.download('stopwords')\n",
        "nltk.download('wordnet')\n",
        "nltk.download('punkt_tab')\n",
        "\n",
        "# Initialize tools\n",
        "stop_words = set(stopwords.words('english'))\n",
        "stemmer = PorterStemmer()\n",
        "lemmatizer = WordNetLemmatizer()\n",
        "\n",
        "# ==== Step 1: Read the file ====\n",
        "with open(\"/content/HI.txt\", \"r\", encoding=\"utf-8\") as file:\n",
        "    text = file.read()\n",
        "\n",
        "# ==== Step 2: Normalize the text ====\n",
        "normalized_text = text.lower()\n",
        "normalized_text = \"\".join([char for char in normalized_text if char.isalnum() or char.isspace()])\n",
        "normalized_text = \" \".join(normalized_text.split())  # Removes extra spaces\n",
        "\n",
        "# ==== Step 3: Tokenize ====\n",
        "tokens = word_tokenize(normalized_text)\n",
        "\n",
        "# ==== Step 4: Remove stopwords ====\n",
        "filtered_tokens = [word for word in tokens if word not in stop_words]\n",
        "\n",
        "# ==== Step 5: Apply stemming and lemmatization ====\n",
        "stemmed_words = [stemmer.stem(word) for word in filtered_tokens]\n",
        "lemmatized_words = [lemmatizer.lemmatize(word) for word in filtered_tokens]\n",
        "\n",
        "# ==== Step 6: Convert to text ====\n",
        "stemmed_text = \" \".join(stemmed_words)\n",
        "lemmatized_text = \" \".join(lemmatized_words)\n",
        "\n",
        "# ==== Step 7: Print results ====\n",
        "print(\"Original Text:\\n\", text)\n",
        "print(\"\\nNormalized Text:\\n\", normalized_text)\n",
        "print(\"\\nAfter Stopword Removal:\\n\", \" \".join(filtered_tokens))\n",
        "print(\"\\nAfter Stemming:\\n\", stemmed_text)\n",
        "print(\"\\nAfter Lemmatization:\\n\", lemmatized_text)"
      ],
      "metadata": {
        "colab": {
          "base_uri": "https://localhost:8080/"
        },
        "id": "Ur8XSjh64O3Q",
        "outputId": "93f71714-703a-476c-e4cb-733093d66861"
      },
      "execution_count": 3,
      "outputs": [
        {
          "output_type": "stream",
          "name": "stderr",
          "text": [
            "[nltk_data] Downloading package punkt to /root/nltk_data...\n",
            "[nltk_data]   Package punkt is already up-to-date!\n",
            "[nltk_data] Downloading package stopwords to /root/nltk_data...\n",
            "[nltk_data]   Package stopwords is already up-to-date!\n",
            "[nltk_data] Downloading package wordnet to /root/nltk_data...\n",
            "[nltk_data]   Package wordnet is already up-to-date!\n",
            "[nltk_data] Downloading package punkt_tab to /root/nltk_data...\n",
            "[nltk_data]   Unzipping tokenizers/punkt_tab.zip.\n"
          ]
        },
        {
          "output_type": "stream",
          "name": "stdout",
          "text": [
            "Original Text:\n",
            " HI!!!!!how are you?hbjjkjhvssjhbjhbjh.;.,,hynhgtydfewdb\n",
            "\n",
            "Normalized Text:\n",
            " hihow are youhbjjkjhvssjhbjhbjhhynhgtydfewdb\n",
            "\n",
            "After Stopword Removal:\n",
            " hihow youhbjjkjhvssjhbjhbjhhynhgtydfewdb\n",
            "\n",
            "After Stemming:\n",
            " hihow youhbjjkjhvssjhbjhbjhhynhgtydfewdb\n",
            "\n",
            "After Lemmatization:\n",
            " hihow youhbjjkjhvssjhbjhbjhhynhgtydfewdb\n"
          ]
        }
      ]
    }
  ]
}