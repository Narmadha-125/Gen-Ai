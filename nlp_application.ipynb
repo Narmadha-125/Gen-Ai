{
  "nbformat": 4,
  "nbformat_minor": 0,
  "metadata": {
    "colab": {
      "provenance": []
    },
    "kernelspec": {
      "name": "python3",
      "display_name": "Python 3"
    },
    "language_info": {
      "name": "python"
    }
  },
  "cells": [
    {
      "cell_type": "code",
      "metadata": {
        "colab": {
          "base_uri": "https://localhost:8080/"
        },
        "id": "41a7130c",
        "outputId": "e2469ba2-9672-4e94-b0fc-dc9f555db0ca"
      },
      "source": [
        "!pip install deep_translator"
      ],
      "execution_count": 2,
      "outputs": [
        {
          "output_type": "stream",
          "name": "stdout",
          "text": [
            "Collecting deep_translator\n",
            "  Downloading deep_translator-1.11.4-py3-none-any.whl.metadata (30 kB)\n",
            "Requirement already satisfied: beautifulsoup4<5.0.0,>=4.9.1 in /usr/local/lib/python3.11/dist-packages (from deep_translator) (4.13.4)\n",
            "Requirement already satisfied: requests<3.0.0,>=2.23.0 in /usr/local/lib/python3.11/dist-packages (from deep_translator) (2.32.3)\n",
            "Requirement already satisfied: soupsieve>1.2 in /usr/local/lib/python3.11/dist-packages (from beautifulsoup4<5.0.0,>=4.9.1->deep_translator) (2.7)\n",
            "Requirement already satisfied: typing-extensions>=4.0.0 in /usr/local/lib/python3.11/dist-packages (from beautifulsoup4<5.0.0,>=4.9.1->deep_translator) (4.14.1)\n",
            "Requirement already satisfied: charset-normalizer<4,>=2 in /usr/local/lib/python3.11/dist-packages (from requests<3.0.0,>=2.23.0->deep_translator) (3.4.2)\n",
            "Requirement already satisfied: idna<4,>=2.5 in /usr/local/lib/python3.11/dist-packages (from requests<3.0.0,>=2.23.0->deep_translator) (3.10)\n",
            "Requirement already satisfied: urllib3<3,>=1.21.1 in /usr/local/lib/python3.11/dist-packages (from requests<3.0.0,>=2.23.0->deep_translator) (2.4.0)\n",
            "Requirement already satisfied: certifi>=2017.4.17 in /usr/local/lib/python3.11/dist-packages (from requests<3.0.0,>=2.23.0->deep_translator) (2025.7.9)\n",
            "Downloading deep_translator-1.11.4-py3-none-any.whl (42 kB)\n",
            "\u001b[?25l   \u001b[90m━━━━━━━━━━━━━━━━━━━━━━━━━━━━━━━━━━━━━━━━\u001b[0m \u001b[32m0.0/42.3 kB\u001b[0m \u001b[31m?\u001b[0m eta \u001b[36m-:--:--\u001b[0m\r\u001b[2K   \u001b[90m━━━━━━━━━━━━━━━━━━━━━━━━━━━━━━━━━━━━━━━━\u001b[0m \u001b[32m42.3/42.3 kB\u001b[0m \u001b[31m1.7 MB/s\u001b[0m eta \u001b[36m0:00:00\u001b[0m\n",
            "\u001b[?25hInstalling collected packages: deep_translator\n",
            "Successfully installed deep_translator-1.11.4\n"
          ]
        }
      ]
    },
    {
      "cell_type": "markdown",
      "metadata": {
        "id": "3ffc06a2"
      },
      "source": [
        "I've added a cell to install the `deep_translator` library. Please run this cell first, and then run the original code cell again."
      ]
    },
    {
      "cell_type": "code",
      "metadata": {
        "colab": {
          "base_uri": "https://localhost:8080/"
        },
        "id": "8f6d865c",
        "outputId": "0bd2e7ce-c754-458d-bbef-22ebb2890e59"
      },
      "source": [
        "import spacy\n",
        "from textblob import TextBlob\n",
        "from deep_translator import GoogleTranslator\n",
        "\n",
        "# Load spaCy English model\n",
        "nlp = spacy.load(\"en_core_web_sm\")\n",
        "\n",
        "def nlp_offline_assistant(text):\n",
        "    # Sentiment using TextBlob\n",
        "    blob = TextBlob(text)\n",
        "    polarity = blob.sentiment.polarity\n",
        "    sentiment = \"Positive\" if polarity > 0 else \"Negative\" if polarity < 0 else \"Neutral\"\n",
        "\n",
        "    # Named Entity Recognition using spaCy\n",
        "    doc = nlp(text)\n",
        "    ner = [f\"{ent.text} ({ent.label_})\" for ent in doc.ents] or [\"No named entities found.\"]\n",
        "\n",
        "    # Translation using GoogleTranslator\n",
        "    translated_text = GoogleTranslator(source='auto', target='hi').translate(text)\n",
        "\n",
        "    # Output results\n",
        "    print(\"\\n🧠 NLP Analysis Result:\")\n",
        "    print(f\"\\n1️⃣ Sentiment: {sentiment}\")\n",
        "    print(\"\\n2️⃣ Named Entities:\")\n",
        "    for entity in ner:\n",
        "        print(f\"   - {entity}\")\n",
        "    print(f\"\\n3️⃣ Hindi Translation:\\n   {translated_text}\")\n",
        "\n",
        "# Take user input\n",
        "if __name__ == \"__main__\":\n",
        "    print(\"🌟 Welcome to your offline NLP assistant!\")\n",
        "    user_text = input(\"📝 Enter text: \")\n",
        "    nlp_offline_assistant(user_text)"
      ],
      "execution_count": 3,
      "outputs": [
        {
          "output_type": "stream",
          "name": "stdout",
          "text": [
            "🌟 Welcome to your offline NLP assistant!\n",
            "📝 Enter text: I'm Narmadha currently i do my GenAi course\n",
            "\n",
            "🧠 NLP Analysis Result:\n",
            "\n",
            "1️⃣ Sentiment: Neutral\n",
            "\n",
            "2️⃣ Named Entities:\n",
            "   - Narmadha (PERSON)\n",
            "   - GenAi (ORG)\n",
            "\n",
            "3️⃣ Hindi Translation:\n",
            "   मैं narmadha वर्तमान में मैं अपना genai पाठ्यक्रम करता हूँ\n"
          ]
        }
      ]
    }
  ]
}