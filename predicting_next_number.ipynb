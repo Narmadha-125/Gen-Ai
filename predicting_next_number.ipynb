{
  "nbformat": 4,
  "nbformat_minor": 0,
  "metadata": {
    "colab": {
      "provenance": []
    },
    "kernelspec": {
      "name": "python3",
      "display_name": "Python 3"
    },
    "language_info": {
      "name": "python"
    }
  },
  "cells": [
    {
      "cell_type": "code",
      "source": [
        "import numpy as np\n",
        "from tensorflow.keras.models import Sequential\n",
        "from tensorflow.keras.layers import SimpleRNN,Dense\n",
        "import matplotlib.pyplot as plt"
      ],
      "metadata": {
        "id": "Fh11iWqroj6v"
      },
      "execution_count": 2,
      "outputs": []
    },
    {
      "cell_type": "code",
      "source": [
        "sequence=np.array([i for i in range(1,101)])\n",
        "window_size=3\n",
        "X=[]\n",
        "Y=[]"
      ],
      "metadata": {
        "id": "ptKB-wUy9b_w"
      },
      "execution_count": 3,
      "outputs": []
    },
    {
      "cell_type": "code",
      "source": [
        "for i in range(len(sequence)-window_size):\n",
        "    X.append(sequence[i:i+window_size])\n",
        "    Y.append(sequence[i+window_size])\n",
        ""
      ],
      "metadata": {
        "id": "RuFbqwod9p8g"
      },
      "execution_count": 4,
      "outputs": []
    },
    {
      "cell_type": "code",
      "source": [
        "X=np.array(X)\n",
        "Y=np.array(Y)"
      ],
      "metadata": {
        "id": "AGzsL4Qt93Up"
      },
      "execution_count": 5,
      "outputs": []
    },
    {
      "cell_type": "code",
      "source": [
        "X=X.reshape((X.shape[0],X.shape[1],1))"
      ],
      "metadata": {
        "id": "gyyjpXre9_BE"
      },
      "execution_count": 6,
      "outputs": []
    },
    {
      "cell_type": "code",
      "source": [
        "model=Sequential()\n",
        "model.add(SimpleRNN(units=32,activation='relu',input_shape=(window_size,1)))\n",
        "model.add(Dense(1))\n",
        "model.compile(optimizer='adam',loss='mse')"
      ],
      "metadata": {
        "colab": {
          "base_uri": "https://localhost:8080/"
        },
        "id": "lDooXJfB-IRN",
        "outputId": "f53a0a47-66df-4150-9582-8589c7f57055"
      },
      "execution_count": 7,
      "outputs": [
        {
          "output_type": "stream",
          "name": "stderr",
          "text": [
            "/usr/local/lib/python3.11/dist-packages/keras/src/layers/rnn/rnn.py:200: UserWarning: Do not pass an `input_shape`/`input_dim` argument to a layer. When using Sequential models, prefer using an `Input(shape)` object as the first layer in the model instead.\n",
            "  super().__init__(**kwargs)\n"
          ]
        }
      ]
    },
    {
      "cell_type": "markdown",
      "source": [],
      "metadata": {
        "id": "cUWCue8kucWZ"
      }
    },
    {
      "cell_type": "code",
      "source": [
        "model.fit(X,Y,epochs=50,verbose=2)\n",
        "print(\"training complete\")"
      ],
      "metadata": {
        "colab": {
          "base_uri": "https://localhost:8080/"
        },
        "id": "vHVdfxil-8VP",
        "outputId": "04698a7e-2f23-416b-f9c0-df97689e9043"
      },
      "execution_count": 11,
      "outputs": [
        {
          "output_type": "stream",
          "name": "stdout",
          "text": [
            "Epoch 1/50\n",
            "4/4 - 0s - 11ms/step - loss: 0.7047\n",
            "Epoch 2/50\n",
            "4/4 - 0s - 14ms/step - loss: 0.7046\n",
            "Epoch 3/50\n",
            "4/4 - 0s - 14ms/step - loss: 0.7034\n",
            "Epoch 4/50\n",
            "4/4 - 0s - 15ms/step - loss: 0.7036\n",
            "Epoch 5/50\n",
            "4/4 - 0s - 13ms/step - loss: 0.7037\n",
            "Epoch 6/50\n",
            "4/4 - 0s - 10ms/step - loss: 0.7029\n",
            "Epoch 7/50\n",
            "4/4 - 0s - 15ms/step - loss: 0.7027\n",
            "Epoch 8/50\n",
            "4/4 - 0s - 12ms/step - loss: 0.7016\n",
            "Epoch 9/50\n",
            "4/4 - 0s - 16ms/step - loss: 0.6969\n",
            "Epoch 10/50\n",
            "4/4 - 0s - 13ms/step - loss: 0.6937\n",
            "Epoch 11/50\n",
            "4/4 - 0s - 11ms/step - loss: 0.6908\n",
            "Epoch 12/50\n",
            "4/4 - 0s - 17ms/step - loss: 0.6899\n",
            "Epoch 13/50\n",
            "4/4 - 0s - 13ms/step - loss: 0.6917\n",
            "Epoch 14/50\n",
            "4/4 - 0s - 10ms/step - loss: 0.6953\n",
            "Epoch 15/50\n",
            "4/4 - 0s - 14ms/step - loss: 0.6965\n",
            "Epoch 16/50\n",
            "4/4 - 0s - 15ms/step - loss: 0.6979\n",
            "Epoch 17/50\n",
            "4/4 - 0s - 15ms/step - loss: 0.6978\n",
            "Epoch 18/50\n",
            "4/4 - 0s - 9ms/step - loss: 0.6957\n",
            "Epoch 19/50\n",
            "4/4 - 0s - 15ms/step - loss: 0.6881\n",
            "Epoch 20/50\n",
            "4/4 - 0s - 15ms/step - loss: 0.6796\n",
            "Epoch 21/50\n",
            "4/4 - 0s - 10ms/step - loss: 0.6756\n",
            "Epoch 22/50\n",
            "4/4 - 0s - 10ms/step - loss: 0.6755\n",
            "Epoch 23/50\n",
            "4/4 - 0s - 15ms/step - loss: 0.6748\n",
            "Epoch 24/50\n",
            "4/4 - 0s - 15ms/step - loss: 0.6728\n",
            "Epoch 25/50\n",
            "4/4 - 0s - 12ms/step - loss: 0.6708\n",
            "Epoch 26/50\n",
            "4/4 - 0s - 10ms/step - loss: 0.6708\n",
            "Epoch 27/50\n",
            "4/4 - 0s - 18ms/step - loss: 0.6700\n",
            "Epoch 28/50\n",
            "4/4 - 0s - 9ms/step - loss: 0.6678\n",
            "Epoch 29/50\n",
            "4/4 - 0s - 16ms/step - loss: 0.6696\n",
            "Epoch 30/50\n",
            "4/4 - 0s - 15ms/step - loss: 0.6709\n",
            "Epoch 31/50\n",
            "4/4 - 0s - 10ms/step - loss: 0.6690\n",
            "Epoch 32/50\n",
            "4/4 - 0s - 15ms/step - loss: 0.6645\n",
            "Epoch 33/50\n",
            "4/4 - 0s - 14ms/step - loss: 0.6624\n",
            "Epoch 34/50\n",
            "4/4 - 0s - 16ms/step - loss: 0.6621\n",
            "Epoch 35/50\n",
            "4/4 - 0s - 10ms/step - loss: 0.6614\n",
            "Epoch 36/50\n",
            "4/4 - 0s - 10ms/step - loss: 0.6618\n",
            "Epoch 37/50\n",
            "4/4 - 0s - 15ms/step - loss: 0.6652\n",
            "Epoch 38/50\n",
            "4/4 - 0s - 15ms/step - loss: 0.6689\n",
            "Epoch 39/50\n",
            "4/4 - 0s - 11ms/step - loss: 0.6685\n",
            "Epoch 40/50\n",
            "4/4 - 0s - 11ms/step - loss: 0.6632\n",
            "Epoch 41/50\n",
            "4/4 - 0s - 15ms/step - loss: 0.6562\n",
            "Epoch 42/50\n",
            "4/4 - 0s - 15ms/step - loss: 0.6541\n",
            "Epoch 43/50\n",
            "4/4 - 0s - 15ms/step - loss: 0.6520\n",
            "Epoch 44/50\n",
            "4/4 - 0s - 10ms/step - loss: 0.6521\n",
            "Epoch 45/50\n",
            "4/4 - 0s - 12ms/step - loss: 0.6531\n",
            "Epoch 46/50\n",
            "4/4 - 0s - 15ms/step - loss: 0.6531\n",
            "Epoch 47/50\n",
            "4/4 - 0s - 15ms/step - loss: 0.6537\n",
            "Epoch 48/50\n",
            "4/4 - 0s - 10ms/step - loss: 0.6505\n",
            "Epoch 49/50\n",
            "4/4 - 0s - 16ms/step - loss: 0.6463\n",
            "Epoch 50/50\n",
            "4/4 - 0s - 14ms/step - loss: 0.6415\n",
            "training complete\n"
          ]
        }
      ]
    },
    {
      "cell_type": "code",
      "source": [
        "test_input=np.array([8,9,10])\n",
        "test_input=test_input.reshape((1,window_size,1))\n",
        "predicted=model.predict(test_input,verbose=0)\n",
        "print(f\"predicted next number:{predicted[0][0]:.2f}\")"
      ],
      "metadata": {
        "colab": {
          "base_uri": "https://localhost:8080/"
        },
        "id": "-OlQGqAW_NbA",
        "outputId": "2f78854b-d10d-4c73-dcd8-5e180aaadf71"
      },
      "execution_count": 9,
      "outputs": [
        {
          "output_type": "stream",
          "name": "stdout",
          "text": [
            "predicted next number:9.30\n"
          ]
        }
      ]
    },
    {
      "cell_type": "code",
      "source": [
        "predictions=model.predict(X)\n",
        "plt.plot(Y,label='True Values')\n",
        "plt.plot(predictions,label='predicted')\n",
        "plt.legend()\n",
        "plt.show()"
      ],
      "metadata": {
        "colab": {
          "base_uri": "https://localhost:8080/",
          "height": 447
        },
        "id": "jzFYPuQbADld",
        "outputId": "215b4af2-ea77-4c6c-f99d-9fdba1ba8773"
      },
      "execution_count": 12,
      "outputs": [
        {
          "output_type": "stream",
          "name": "stdout",
          "text": [
            "\u001b[1m4/4\u001b[0m \u001b[32m━━━━━━━━━━━━━━━━━━━━\u001b[0m\u001b[37m\u001b[0m \u001b[1m0s\u001b[0m 6ms/step  \n"
          ]
        },
        {
          "output_type": "display_data",
          "data": {
            "text/plain": [
              "<Figure size 640x480 with 1 Axes>"
            ],
            "image/png": "[encoded data removed]"
          },
          "metadata": {}
        }
      ]
    },
    {
      "cell_type": "code",
      "source": [],
      "metadata": {
        "id": "82i2RiuRBEkM"
      },
      "execution_count": null,
      "outputs": []
    }
  ]
}