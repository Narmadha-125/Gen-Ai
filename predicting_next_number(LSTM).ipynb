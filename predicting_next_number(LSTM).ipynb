{
  "nbformat": 4,
  "nbformat_minor": 0,
  "metadata": {
    "colab": {
      "provenance": []
    },
    "kernelspec": {
      "name": "python3",
      "display_name": "Python 3"
    },
    "language_info": {
      "name": "python"
    }
  },
  "cells": [
    {
      "cell_type": "code",
      "source": [
        "import numpy as np\n",
        "from tensorflow.keras.models import Sequential\n",
        "from tensorflow.keras.layers import SimpleRNN,Dense, LSTM\n",
        "import matplotlib.pyplot as plt"
      ],
      "metadata": {
        "id": "Fh11iWqroj6v"
      },
      "execution_count": 7,
      "outputs": []
    },
    {
      "cell_type": "code",
      "source": [
        "sequence=np.array([i for i in range(1,101)])\n",
        "window_size=3\n",
        "X=[]\n",
        "Y=[]"
      ],
      "metadata": {
        "id": "ptKB-wUy9b_w"
      },
      "execution_count": 2,
      "outputs": []
    },
    {
      "cell_type": "code",
      "source": [
        "for i in range(len(sequence)-window_size):\n",
        "    X.append(sequence[i:i+window_size])\n",
        "    Y.append(sequence[i+window_size])\n"
      ],
      "metadata": {
        "id": "RuFbqwod9p8g"
      },
      "execution_count": 3,
      "outputs": []
    },
    {
      "cell_type": "code",
      "source": [
        "X=np.array(X)\n",
        "Y=np.array(Y)"
      ],
      "metadata": {
        "id": "AGzsL4Qt93Up"
      },
      "execution_count": 4,
      "outputs": []
    },
    {
      "cell_type": "code",
      "source": [
        "X=X.reshape((X.shape[0],X.shape[1],1))"
      ],
      "metadata": {
        "id": "gyyjpXre9_BE"
      },
      "execution_count": 5,
      "outputs": []
    },
    {
      "cell_type": "code",
      "source": [],
      "metadata": {
        "id": "gZca4MQ2CTkB"
      },
      "execution_count": null,
      "outputs": []
    },
    {
      "cell_type": "code",
      "source": [
        "model=Sequential()\n",
        "model.add(LSTM(units=32,activation='relu',input_shape=(window_size,1)))\n",
        "model.add(Dense(1))\n",
        "model.compile(optimizer='adam',loss='mse')"
      ],
      "metadata": {
        "id": "lDooXJfB-IRN"
      },
      "execution_count": 9,
      "outputs": []
    },
    {
      "cell_type": "code",
      "source": [],
      "metadata": {
        "id": "_IwtaRQKCrtQ"
      },
      "execution_count": null,
      "outputs": []
    },
    {
      "cell_type": "code",
      "source": [
        "model.fit(X,Y,epochs=50,verbose=2)\n",
        "print(\"training complete\")"
      ],
      "metadata": {
        "colab": {
          "base_uri": "https://localhost:8080/"
        },
        "id": "vHVdfxil-8VP",
        "outputId": "eccab9e3-e79c-4a43-a22a-00d8fa31deda"
      },
      "execution_count": 10,
      "outputs": [
        {
          "output_type": "stream",
          "name": "stdout",
          "text": [
            "Epoch 1/50\n",
            "4/4 - 2s - 475ms/step - loss: 4557.8706\n",
            "Epoch 2/50\n",
            "4/4 - 0s - 17ms/step - loss: 4255.2354\n",
            "Epoch 3/50\n",
            "4/4 - 0s - 14ms/step - loss: 3983.6733\n",
            "Epoch 4/50\n",
            "4/4 - 0s - 12ms/step - loss: 3742.9658\n",
            "Epoch 5/50\n",
            "4/4 - 0s - 15ms/step - loss: 3485.7500\n",
            "Epoch 6/50\n",
            "4/4 - 0s - 12ms/step - loss: 3218.2671\n",
            "Epoch 7/50\n",
            "4/4 - 0s - 12ms/step - loss: 2957.0574\n",
            "Epoch 8/50\n",
            "4/4 - 0s - 15ms/step - loss: 2722.5110\n",
            "Epoch 9/50\n",
            "4/4 - 0s - 15ms/step - loss: 2498.5317\n",
            "Epoch 10/50\n",
            "4/4 - 0s - 15ms/step - loss: 2223.0991\n",
            "Epoch 11/50\n",
            "4/4 - 0s - 15ms/step - loss: 1906.9637\n",
            "Epoch 12/50\n",
            "4/4 - 0s - 15ms/step - loss: 1617.2731\n",
            "Epoch 13/50\n",
            "4/4 - 0s - 13ms/step - loss: 1403.5438\n",
            "Epoch 14/50\n",
            "4/4 - 0s - 12ms/step - loss: 1211.8101\n",
            "Epoch 15/50\n",
            "4/4 - 0s - 12ms/step - loss: 1013.5338\n",
            "Epoch 16/50\n",
            "4/4 - 0s - 15ms/step - loss: 790.5640\n",
            "Epoch 17/50\n",
            "4/4 - 0s - 15ms/step - loss: 483.4929\n",
            "Epoch 18/50\n",
            "4/4 - 0s - 12ms/step - loss: 110.9896\n",
            "Epoch 19/50\n",
            "4/4 - 0s - 16ms/step - loss: 19.7833\n",
            "Epoch 20/50\n",
            "4/4 - 0s - 12ms/step - loss: 46.0437\n",
            "Epoch 21/50\n",
            "4/4 - 0s - 15ms/step - loss: 55.5342\n",
            "Epoch 22/50\n",
            "4/4 - 0s - 16ms/step - loss: 37.9514\n",
            "Epoch 23/50\n",
            "4/4 - 0s - 12ms/step - loss: 19.1903\n",
            "Epoch 24/50\n",
            "4/4 - 0s - 12ms/step - loss: 11.5051\n",
            "Epoch 25/50\n",
            "4/4 - 0s - 15ms/step - loss: 11.2931\n",
            "Epoch 26/50\n",
            "4/4 - 0s - 12ms/step - loss: 12.8061\n",
            "Epoch 27/50\n",
            "4/4 - 0s - 15ms/step - loss: 12.9858\n",
            "Epoch 28/50\n",
            "4/4 - 0s - 12ms/step - loss: 11.9515\n",
            "Epoch 29/50\n",
            "4/4 - 0s - 12ms/step - loss: 10.5248\n",
            "Epoch 30/50\n",
            "4/4 - 0s - 12ms/step - loss: 9.4888\n",
            "Epoch 31/50\n",
            "4/4 - 0s - 16ms/step - loss: 9.0421\n",
            "Epoch 32/50\n",
            "4/4 - 0s - 15ms/step - loss: 8.9327\n",
            "Epoch 33/50\n",
            "4/4 - 0s - 15ms/step - loss: 8.7274\n",
            "Epoch 34/50\n",
            "4/4 - 0s - 15ms/step - loss: 8.4785\n",
            "Epoch 35/50\n",
            "4/4 - 0s - 13ms/step - loss: 8.2520\n",
            "Epoch 36/50\n",
            "4/4 - 0s - 12ms/step - loss: 8.0470\n",
            "Epoch 37/50\n",
            "4/4 - 0s - 13ms/step - loss: 7.8468\n",
            "Epoch 38/50\n",
            "4/4 - 0s - 12ms/step - loss: 7.6769\n",
            "Epoch 39/50\n",
            "4/4 - 0s - 15ms/step - loss: 7.5063\n",
            "Epoch 40/50\n",
            "4/4 - 0s - 15ms/step - loss: 7.3504\n",
            "Epoch 41/50\n",
            "4/4 - 0s - 12ms/step - loss: 7.2063\n",
            "Epoch 42/50\n",
            "4/4 - 0s - 15ms/step - loss: 7.0428\n",
            "Epoch 43/50\n",
            "4/4 - 0s - 15ms/step - loss: 6.8628\n",
            "Epoch 44/50\n",
            "4/4 - 0s - 13ms/step - loss: 6.6766\n",
            "Epoch 45/50\n",
            "4/4 - 0s - 15ms/step - loss: 6.4628\n",
            "Epoch 46/50\n",
            "4/4 - 0s - 15ms/step - loss: 6.1701\n",
            "Epoch 47/50\n",
            "4/4 - 0s - 12ms/step - loss: 5.8065\n",
            "Epoch 48/50\n",
            "4/4 - 0s - 13ms/step - loss: 5.3146\n",
            "Epoch 49/50\n",
            "4/4 - 0s - 14ms/step - loss: 4.8559\n",
            "Epoch 50/50\n",
            "4/4 - 0s - 13ms/step - loss: 4.3789\n",
            "training complete\n"
          ]
        }
      ]
    },
    {
      "cell_type": "code",
      "source": [
        "test_input=np.array([8,9,10])\n",
        "test_input=test_input.reshape((1,window_size,1))\n",
        "predicted=model.predict(test_input,verbose=0)\n",
        "print(f\"predicted next number:{predicted[0][0]:.2f}\")"
      ],
      "metadata": {
        "colab": {
          "base_uri": "https://localhost:8080/"
        },
        "id": "-OlQGqAW_NbA",
        "outputId": "604542bf-ca1d-4da9-a75f-869c0fd5e9d0"
      },
      "execution_count": 11,
      "outputs": [
        {
          "output_type": "stream",
          "name": "stdout",
          "text": [
            "predicted next number:6.18\n"
          ]
        }
      ]
    },
    {
      "cell_type": "code",
      "source": [
        "predictions=model.predict(X)\n",
        "plt.plot(Y,label='True Values')\n",
        "plt.plot(predictions,label='predicted')\n",
        "plt.legend()\n",
        "plt.show()"
      ],
      "metadata": {
        "colab": {
          "base_uri": "https://localhost:8080/",
          "height": 447
        },
        "id": "jzFYPuQbADld",
        "outputId": "8587c8a3-49cf-4095-b470-ed49977533fe"
      },
      "execution_count": 12,
      "outputs": [
        {
          "output_type": "stream",
          "name": "stdout",
          "text": [
            "\u001b[1m4/4\u001b[0m \u001b[32m━━━━━━━━━━━━━━━━━━━━\u001b[0m\u001b[37m\u001b[0m \u001b[1m0s\u001b[0m 10ms/step \n"
          ]
        },
        {
          "output_type": "display_data",
          "data": {
            "text/plain": [
              "<Figure size 640x480 with 1 Axes>"
            ],
            "image/png": "[encoded data removed]"
          },
          "metadata": {}
        }
      ]
    }
  ]
}