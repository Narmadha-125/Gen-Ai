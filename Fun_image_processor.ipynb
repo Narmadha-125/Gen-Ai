{
  "nbformat": 4,
  "nbformat_minor": 0,
  "metadata": {
    "colab": {
      "provenance": []
    },
    "kernelspec": {
      "name": "python3",
      "display_name": "Python 3"
    },
    "language_info": {
      "name": "python"
    }
  },
  "cells": [
    {
      "cell_type": "code",
      "execution_count": 1,
      "metadata": {
        "colab": {
          "base_uri": "https://localhost:8080/",
          "height": 645
        },
        "id": "ziFqFyv3zI_C",
        "outputId": "1423db40-ed50-44f3-c8cb-60e7eaed736d"
      },
      "outputs": [
        {
          "output_type": "stream",
          "name": "stdout",
          "text": [
            "It looks like you are running Gradio on a hosted a Jupyter notebook. For the Gradio app to work, sharing must be enabled. Automatically setting `share=True` (you can turn this off by setting `share=False` in `launch()` explicitly).\n",
            "\n",
            "Colab notebook detected. To show errors in colab notebook, set debug=True in launch()\n",
            "* Running on public URL: https://a7ee89b77874f042b0.gradio.live\n",
            "\n",
            "This share link expires in 1 week. For free permanent hosting and GPU upgrades, run `gradio deploy` from the terminal in the working directory to deploy to Hugging Face Spaces (https://huggingface.co/spaces)\n"
          ]
        },
        {
          "output_type": "display_data",
          "data": {
            "text/plain": [
              "<IPython.core.display.HTML object>"
            ],
            "text/html": [
              "<div><iframe src=\"https://a7ee89b77874f042b0.gradio.live\" width=\"100%\" height=\"500\" allow=\"autoplay; camera; microphone; clipboard-read; clipboard-write;\" frameborder=\"0\" allowfullscreen></iframe></div>"
            ]
          },
          "metadata": {}
        },
        {
          "output_type": "execute_result",
          "data": {
            "text/plain": []
          },
          "metadata": {},
          "execution_count": 1
        }
      ],
      "source": [
        "import gradio as gr\n",
        "import cv2\n",
        "import numpy as np\n",
        "\n",
        "def process_image(effect, image):\n",
        "    img = cv2.cvtColor(image, cv2.COLOR_RGB2BGR)\n",
        "\n",
        "    if effect == \"Grayscale\":\n",
        "        processed = cv2.cvtColor(img, cv2.COLOR_BGR2GRAY)\n",
        "        processed = cv2.cvtColor(processed, cv2.COLOR_GRAY2RGB)\n",
        "    elif effect == \"Canny Edge\":\n",
        "        edges = cv2.Canny(img, 100, 200)\n",
        "        processed = cv2.cvtColor(edges, cv2.COLOR_GRAY2RGB)\n",
        "    elif effect == \"Blur\":\n",
        "        processed = cv2.GaussianBlur(img, (15, 15), 0)\n",
        "    elif effect == \"Cartoon\":\n",
        "        gray = cv2.cvtColor(img, cv2.COLOR_BGR2GRAY)\n",
        "        inv = 255 - gray\n",
        "        blur = cv2.GaussianBlur(inv, (21, 21), 0)\n",
        "        inv_blur = 255 - blur\n",
        "        sketch = cv2.divide(gray, inv_blur, scale=256.0)\n",
        "        processed = cv2.cvtColor(sketch, cv2.COLOR_GRAY2RGB)\n",
        "    else:\n",
        "        processed = img\n",
        "\n",
        "    return cv2.cvtColor(processed, cv2.COLOR_BGR2RGB)\n",
        "\n",
        "effects = [\"Original\", \"Grayscale\", \"Canny Edge\", \"Blur\", \"Cartoon\"]\n",
        "\n",
        "gr.Interface(\n",
        "    fn=process_image,\n",
        "    inputs=[\n",
        "        gr.Dropdown(choices=effects, label=\"Choose Effect\", value=\"Cartoon\"),\n",
        "        gr.Image(type=\"numpy\", label=\"Upload an Image\")\n",
        "    ],\n",
        "    outputs=gr.Image(label=\"Processed Image\"),\n",
        "    title=\"🎨 OpenCV Fun Image Processor\",\n",
        "    description=\"Apply fun filters to your image using OpenCV!\"\n",
        ").launch()"
      ]
    }
  ]
}