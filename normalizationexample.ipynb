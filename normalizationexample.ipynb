{
  "nbformat": 4,
  "nbformat_minor": 0,
  "metadata": {
    "colab": {
      "provenance": []
    },
    "kernelspec": {
      "name": "python3",
      "display_name": "Python 3"
    },
    "language_info": {
      "name": "python"
    }
  },
  "cells": [
    {
      "cell_type": "code",
      "execution_count": 1,
      "metadata": {
        "colab": {
          "base_uri": "https://localhost:8080/"
        },
        "id": "YxIKIVL21tWp",
        "outputId": "5234f524-8677-424c-d6e5-ed2f402134bd"
      },
      "outputs": [
        {
          "output_type": "stream",
          "name": "stdout",
          "text": [
            "Original Text:\n",
            " HI!!!!!how are you?hbjjkjhvssjhbjhbjh.;.,,hynhgtydfewdb\n",
            "\n",
            "Normalized Text:\n",
            " hihow are youhbjjkjhvssjhbjhbjhhynhgtydfewdb\n"
          ]
        }
      ],
      "source": [
        "# Open and read text file\n",
        "with open(\"/content/HI.txt\", \"r\", encoding=\"utf-8\") as file:\n",
        "    text = file.read()\n",
        "\n",
        "# Normalize the text\n",
        "normalized_text = text.lower()\n",
        "normalized_text = \"\".join([char for char in normalized_text if char.isalnum() or char.isspace()])\n",
        "normalized_text = \" \".join(normalized_text.split())  # removes extra spaces/tabs/newlines\n",
        "\n",
        "# Print original and normalized text\n",
        "print(\"Original Text:\\n\", text)\n",
        "print(\"\\nNormalized Text:\\n\", normalized_text)"
      ]
    }
  ]
}