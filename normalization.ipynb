{
  "nbformat": 4,
  "nbformat_minor": 0,
  "metadata": {
    "colab": {
      "provenance": []
    },
    "kernelspec": {
      "name": "python3",
      "display_name": "Python 3"
    },
    "language_info": {
      "name": "python"
    }
  },
  "cells": [
    {
      "cell_type": "code",
      "execution_count": 2,
      "metadata": {
        "colab": {
          "base_uri": "https://localhost:8080/"
        },
        "id": "EMNPXUEMztpo",
        "outputId": "d4099a44-c90c-4f8e-b238-d71544997f58"
      },
      "outputs": [
        {
          "output_type": "stream",
          "name": "stdout",
          "text": [
            "Therre were once Three Little Pigs!They lived in a straw hut,a stick hut and a brick hut.\n",
            "therrewereoncethreelittlepigstheylivedinastrawhutastickhutandabrickhut\n"
          ]
        }
      ],
      "source": [
        "text=\"Therre were once Three Little Pigs!They lived in a straw hut,a stick hut and a brick hut.\"\n",
        "normalized_text=text.lower()\n",
        "normalized_text=\"\".join([char for char in normalized_text if char.isalnum() or char.isspace()])\n",
        "normalized_text=\"\".join(normalized_text.split())\n",
        "print(text)\n",
        "print(normalized_text)"
      ]
    }
  ]
}